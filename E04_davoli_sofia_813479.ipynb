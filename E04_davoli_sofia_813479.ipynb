{
  "nbformat": 4,
  "nbformat_minor": 0,
  "metadata": {
    "colab": {
      "name": "Assignment-04.ipynb",
      "provenance": []
    },
    "kernelspec": {
      "name": "python3",
      "display_name": "Python 3"
    },
    "accelerator": "GPU"
  },
  "cells": [
    {
      "cell_type": "markdown",
      "metadata": {
        "id": "bzqOYFPd4qWF"
      },
      "source": [
        "# Digital Sign and Image Management\r\n",
        "###### Assignment 4\r\n",
        "\r\n",
        "> **Cognome**: Davoli    **Nome**: Sofia                                  \\\\\r\n",
        "> **Matricola**: 813479                                                     \\\\\r\n"
      ]
    },
    {
      "cell_type": "markdown",
      "metadata": {
        "id": "KNDCYz-c4ylf"
      },
      "source": [
        "## Libraries"
      ]
    },
    {
      "cell_type": "code",
      "metadata": {
        "id": "1srEKP2T4gKj"
      },
      "source": [
        "import tensorflow as tf #-- TensorFlow\r\n",
        "\r\n",
        "#-- Keras\r\n",
        "from tensorflow import keras\r\n",
        "from keras.models import Model\r\n",
        "from keras.layers import Dense, Input, Dropout, Flatten, BatchNormalization, MaxPooling2D, Conv2D, ReLU, Softmax\r\n",
        "from keras.datasets import mnist\r\n",
        "from keras.utils import to_categorical\r\n",
        "\r\n",
        "import numpy as np\r\n",
        "import matplotlib.pyplot as plt\r\n",
        "\r\n",
        "from sklearn.metrics import classification_report, confusion_matrix"
      ],
      "execution_count": 67,
      "outputs": []
    },
    {
      "cell_type": "markdown",
      "metadata": {
        "id": "Q3_SVfOu5cTM"
      },
      "source": [
        "## File reading\r\n",
        "\r\n",
        "loading minst and cifar10 dataset \r\n"
      ]
    },
    {
      "cell_type": "code",
      "metadata": {
        "colab": {
          "base_uri": "https://localhost:8080/"
        },
        "id": "DbsuhDtR5d-b",
        "outputId": "83d1da42-7144-40d6-df6c-56cb1f06b13b"
      },
      "source": [
        "(x_train, y_train), (x_test, y_test) = keras.datasets.mnist.load_data()\r\n",
        "print(x_train.shape,\r\n",
        "      x_test.shape)"
      ],
      "execution_count": 87,
      "outputs": [
        {
          "output_type": "stream",
          "text": [
            "(60000, 28, 28) (10000, 28, 28)\n"
          ],
          "name": "stdout"
        }
      ]
    },
    {
      "cell_type": "code",
      "metadata": {
        "colab": {
          "base_uri": "https://localhost:8080/"
        },
        "id": "D5WRDt9AmZYf",
        "outputId": "20c3885e-18f0-4824-d2e5-c614ee881cb8"
      },
      "source": [
        "(x_train_cf, y_train_cf), (x_test_cf, y_test_cf) = keras.datasets.cifar10.load_data()\r\n",
        "print(x_train_cf.shape,\r\n",
        "      x_test_cf.shape)"
      ],
      "execution_count": 107,
      "outputs": [
        {
          "output_type": "stream",
          "text": [
            "(50000, 32, 32, 3) (10000, 32, 32, 3)\n"
          ],
          "name": "stdout"
        }
      ]
    },
    {
      "cell_type": "markdown",
      "metadata": {
        "id": "I4hXFI4inNgV"
      },
      "source": [
        "# Preprocessing"
      ]
    },
    {
      "cell_type": "markdown",
      "metadata": {
        "id": "tW_Ey1u36OGC"
      },
      "source": [
        "\r\n",
        "Add new array dimension for the number of channels in image, only in minst dataset. The values are rescaled by normalizing the pixels."
      ]
    },
    {
      "cell_type": "code",
      "metadata": {
        "colab": {
          "base_uri": "https://localhost:8080/"
        },
        "id": "wLoPOx865ywz",
        "outputId": "2a8bafb0-5b00-4564-a1ab-14aa58871f48"
      },
      "source": [
        "x_train = np.expand_dims(x_train, axis = -1)\r\n",
        "x_test = np.expand_dims(x_test,  axis = -1)\r\n",
        "\r\n",
        "\r\n",
        "x_train = x_train.astype('float32')/255.0\r\n",
        "x_test = x_test.astype('float32')/255.0\r\n",
        "x_train_cf = x_train_cf.astype('float32')/255.0\r\n",
        "x_test_cf = x_test_cf.astype('float32')/255.0\r\n",
        "\r\n",
        "print(x_train.shape, x_test.shape)\r\n",
        "print(x_train_cf.shape,x_test_cf.shape)\r\n",
        "\r\n"
      ],
      "execution_count": 89,
      "outputs": [
        {
          "output_type": "stream",
          "text": [
            "(60000, 28, 28, 1) (10000, 28, 28, 1)\n",
            "(50000, 32, 32, 3) (10000, 32, 32, 3)\n"
          ],
          "name": "stdout"
        }
      ]
    },
    {
      "cell_type": "markdown",
      "metadata": {
        "id": "Bgs4Wo-w6vOv"
      },
      "source": [
        "\r\n",
        "Transform lables with to_categorical function which allows to perform a multinomial dummyzation. This functions tr this is needed as input for the NNet. Underneath is shown how the transformation work:\r\n",
        "- before the value was simply 5\r\n",
        "- after an arry with 10 classes indicates the value 5 by having all 0 values except for the 1 in the 5-th position (6-place)"
      ]
    },
    {
      "cell_type": "code",
      "metadata": {
        "colab": {
          "base_uri": "https://localhost:8080/"
        },
        "id": "9X9HVKwSePnD",
        "outputId": "51f81d40-8b8c-451a-e2d9-a518528fdb00"
      },
      "source": [
        "y_train[0]"
      ],
      "execution_count": 42,
      "outputs": [
        {
          "output_type": "execute_result",
          "data": {
            "text/plain": [
              "5"
            ]
          },
          "metadata": {
            "tags": []
          },
          "execution_count": 42
        }
      ]
    },
    {
      "cell_type": "code",
      "metadata": {
        "colab": {
          "base_uri": "https://localhost:8080/"
        },
        "id": "H3h4hsJ666m4",
        "outputId": "3009df07-faf5-4e27-a3f5-925105634acd"
      },
      "source": [
        "num_classes = 10\r\n",
        "y_train = to_categorical(y_train, num_classes)\r\n",
        "y_test = to_categorical(y_test, num_classes)\r\n",
        "y_train_cf = to_categorical(y_train_cf, num_classes)\r\n",
        "y_test_cf = to_categorical(y_test_cf, num_classes)\r\n",
        "\r\n",
        "y_train[0]"
      ],
      "execution_count": 90,
      "outputs": [
        {
          "output_type": "execute_result",
          "data": {
            "text/plain": [
              "array([0., 0., 0., 0., 0., 1., 0., 0., 0., 0.], dtype=float32)"
            ]
          },
          "metadata": {
            "tags": []
          },
          "execution_count": 90
        }
      ]
    },
    {
      "cell_type": "markdown",
      "metadata": {
        "id": "-4ThBGAUe9sn"
      },
      "source": [
        "# Model training and evaluation on MINST data\r\n",
        "\r\n",
        "The batch size defines the number of samples that will be propagated through the network. \r\n",
        "In this case we have 60000 train examples and 10000 test examples for MINST dataset, and 50000 - 10000 for CIFAR10.\r\n",
        "\r\n",
        "Chooosing small batch size advantages:\r\n",
        "- It requires less memory. Since the network is trained using fewer samples, the overall training procedure requires less memory.\r\n",
        "- Networks train faster with mini-batches. That's because weight are  updated  after each propagation. \r\n",
        "\r\n",
        "Chooosing small batch size disadvantages:\r\n",
        "- The smaller the batch the less accurate the estimate of the gradient will be\r\n",
        "\r\n",
        "The epochs are the number of time that the ENTIRE dataset is passed forward and backward through the neural network.\r\n",
        "\r\n",
        "for example in we choose a batch size of 6000, to complete 1 epochs we will need to analyze 10 batches to complete 1 epochs of training (for MINST data)"
      ]
    },
    {
      "cell_type": "code",
      "metadata": {
        "id": "Fjcrubfe7RyS"
      },
      "source": [
        "batch_size = 128\r\n",
        "epochs = 10\r\n"
      ],
      "execution_count": 50,
      "outputs": []
    },
    {
      "cell_type": "markdown",
      "metadata": {
        "id": "zNTevhVkhQ-L"
      },
      "source": [
        "The neural network is composed by:\r\n",
        "\r\n",
        "\r\n",
        "- Explicit input layer\r\n",
        "- Convolution (2D) with 32 3×3 filters\r\n",
        "- ReLU\r\n",
        "- Max pooling (2D) with a 2×2 filter\r\n",
        "- Flattening\r\n",
        "- Fully-connected mapping to 128 dimensions\r\n",
        "- ReLU\r\n",
        "- Fully-connected mapping to the final problem size (activation='softmax')"
      ]
    },
    {
      "cell_type": "code",
      "metadata": {
        "id": "-5p-Oxfr8L6w"
      },
      "source": [
        "model = keras.Sequential()\r\n",
        "model.add(Input(shape = (x_train.shape[1], #-- 28\r\n",
        "                         x_train.shape[2], #-- 28\r\n",
        "                         1)))\r\n",
        "model.add(Conv2D(32, (3, 3)))\r\n",
        "model.add(ReLU())\r\n",
        "model.add(MaxPooling2D(pool_size=(2,2)))\r\n",
        "model.add(Flatten())\r\n",
        "model.add(Dense(128, activation='relu'))\r\n",
        "model.add(Dense(num_classes,\r\n",
        "                activation='softmax'))"
      ],
      "execution_count": 51,
      "outputs": []
    },
    {
      "cell_type": "code",
      "metadata": {
        "colab": {
          "base_uri": "https://localhost:8080/"
        },
        "id": "hASYQOpM9ZyU",
        "outputId": "1f1a2444-e6ad-4231-d559-3bc4f1c6202a"
      },
      "source": [
        "# Model loss and optimizer\r\n",
        "model.compile(loss = keras.losses.categorical_crossentropy,\r\n",
        "              optimizer = keras.optimizers.Adadelta(),\r\n",
        "              metrics=['accuracy'])\r\n",
        "\r\n",
        "model.summary()"
      ],
      "execution_count": 52,
      "outputs": [
        {
          "output_type": "stream",
          "text": [
            "Model: \"sequential_4\"\n",
            "_________________________________________________________________\n",
            "Layer (type)                 Output Shape              Param #   \n",
            "=================================================================\n",
            "conv2d_4 (Conv2D)            (None, 26, 26, 32)        320       \n",
            "_________________________________________________________________\n",
            "re_lu_4 (ReLU)               (None, 26, 26, 32)        0         \n",
            "_________________________________________________________________\n",
            "max_pooling2d_4 (MaxPooling2 (None, 13, 13, 32)        0         \n",
            "_________________________________________________________________\n",
            "flatten_4 (Flatten)          (None, 5408)              0         \n",
            "_________________________________________________________________\n",
            "dense_8 (Dense)              (None, 128)               692352    \n",
            "_________________________________________________________________\n",
            "dense_9 (Dense)              (None, 10)                1290      \n",
            "=================================================================\n",
            "Total params: 693,962\n",
            "Trainable params: 693,962\n",
            "Non-trainable params: 0\n",
            "_________________________________________________________________\n"
          ],
          "name": "stdout"
        }
      ]
    },
    {
      "cell_type": "code",
      "metadata": {
        "id": "HnPfQ8nU9hS7"
      },
      "source": [
        "# Model training\r\n",
        "history_mnist = model.fit(x_train, y_train,\r\n",
        "          batch_size = batch_size,\r\n",
        "          epochs = epochs,\r\n",
        "          verbose = 0,\r\n",
        "          validation_data = (x_test,\r\n",
        "                             y_test))"
      ],
      "execution_count": 53,
      "outputs": []
    },
    {
      "cell_type": "code",
      "metadata": {
        "colab": {
          "base_uri": "https://localhost:8080/",
          "height": 404
        },
        "id": "QUrez8varFKv",
        "outputId": "bd6f2301-8923-448c-c6b9-27e481da3c5c"
      },
      "source": [
        "fig = plt.figure(figsize = (18, 6))\r\n",
        "\r\n",
        "fig.add_subplot(1,2,1)\r\n",
        "plt.plot(history_mnist.history['accuracy'], marker='.')\r\n",
        "plt.plot(history_mnist.history['val_accuracy'], marker='.')\r\n",
        "plt.title('Model Accuracy')\r\n",
        "plt.ylabel('Accuracy')\r\n",
        "plt.xlabel('Epochs')\r\n",
        "plt.legend(['train', 'test'], loc = 'upper left')\r\n",
        "\r\n",
        "fig.add_subplot(1,2,2)\r\n",
        "plt.plot(history_mnist.history['loss'], marker = '.')\r\n",
        "plt.plot(history_mnist.history['val_loss'], marker = '.')\r\n",
        "plt.title('Model Loss')\r\n",
        "plt.ylabel('Loss')\r\n",
        "plt.xlabel('Epochs')\r\n",
        "plt.legend(['train', 'test'], loc = 'upper left')\r\n",
        "plt.show()"
      ],
      "execution_count": 54,
      "outputs": [
        {
          "output_type": "display_data",
          "data": {
            "image/png": "[encoded data removed]",
            "text/plain": [
              "<Figure size 1296x432 with 2 Axes>"
            ]
          },
          "metadata": {
            "tags": [],
            "needs_background": "light"
          }
        }
      ]
    },
    {
      "cell_type": "code",
      "metadata": {
        "colab": {
          "base_uri": "https://localhost:8080/"
        },
        "id": "rV041F38-Ifj",
        "outputId": "4a71389e-a5a3-4d76-b886-f0720cd5f2fb"
      },
      "source": [
        "# Evaluation\r\n",
        "score = model.evaluate(x_test,\r\n",
        "                       y_test,\r\n",
        "                       verbose = 0)\r\n",
        "print('Test loss:', score[0])\r\n",
        "print('Test accuracy:', score[1])"
      ],
      "execution_count": 55,
      "outputs": [
        {
          "output_type": "stream",
          "text": [
            "Test loss: 1.0572863817214966\n",
            "Test accuracy: 0.8115000128746033\n"
          ],
          "name": "stdout"
        }
      ]
    },
    {
      "cell_type": "code",
      "metadata": {
        "colab": {
          "base_uri": "https://localhost:8080/"
        },
        "id": "bZPdQ3iV-dE8",
        "outputId": "dffed968-372a-46cb-d42e-17edec9c20ff"
      },
      "source": [
        "print(classification_report(y_test.argmax(axis=1), \r\n",
        "                            model.predict(x_test).argmax(axis=1),\r\n",
        "                            digits = 4))"
      ],
      "execution_count": 56,
      "outputs": [
        {
          "output_type": "stream",
          "text": [
            "              precision    recall  f1-score   support\n",
            "\n",
            "           0     0.8648    0.9398    0.9007       980\n",
            "           1     0.8794    0.9313    0.9046      1135\n",
            "           2     0.8560    0.8236    0.8395      1032\n",
            "           3     0.7016    0.8752    0.7789      1010\n",
            "           4     0.7996    0.7719    0.7855       982\n",
            "           5     0.9641    0.4518    0.6153       892\n",
            "           6     0.8254    0.8685    0.8464       958\n",
            "           7     0.8726    0.8531    0.8628      1028\n",
            "           8     0.7140    0.7485    0.7308       974\n",
            "           9     0.7444    0.7968    0.7697      1009\n",
            "\n",
            "    accuracy                         0.8115     10000\n",
            "   macro avg     0.8222    0.8061    0.8034     10000\n",
            "weighted avg     0.8217    0.8115    0.8069     10000\n",
            "\n"
          ],
          "name": "stdout"
        }
      ]
    },
    {
      "cell_type": "markdown",
      "metadata": {
        "id": "hAePlJpLifm3"
      },
      "source": [
        "# model with different batch size\r\n",
        "The same model is now trained increasing number of batch size, and leaving the same number of epochs to see the effect of batch size on the net learning."
      ]
    },
    {
      "cell_type": "code",
      "metadata": {
        "id": "rlutep6IiINu"
      },
      "source": [
        "\r\n",
        "model = keras.Sequential()\r\n",
        "model.add(Input(shape = (x_train.shape[1], #-- 28\r\n",
        "                         x_train.shape[2], #-- 28\r\n",
        "                         1)))\r\n",
        "model.add(Conv2D(32, (3, 3)))\r\n",
        "model.add(ReLU())\r\n",
        "model.add(MaxPooling2D(pool_size=(2,2)))\r\n",
        "model.add(Flatten())\r\n",
        "model.add(Dense(128, activation='relu'))\r\n",
        "model.add(Dense(num_classes,\r\n",
        "                activation='softmax'))\r\n",
        "\r\n",
        "\r\n",
        "model.compile(loss = keras.losses.categorical_crossentropy,\r\n",
        "              optimizer = keras.optimizers.Adadelta(),\r\n",
        "              metrics=['accuracy'])\r\n",
        "\r\n"
      ],
      "execution_count": 57,
      "outputs": []
    },
    {
      "cell_type": "code",
      "metadata": {
        "colab": {
          "base_uri": "https://localhost:8080/"
        },
        "id": "gRhlzzk6iVYt",
        "outputId": "2feeeb5e-ea65-4876-ab5a-477733411049"
      },
      "source": [
        "batch_size = 600\r\n",
        "epochs = 10\r\n",
        "\r\n",
        "\r\n",
        "model.fit(x_train, y_train,\r\n",
        "          batch_size = batch_size,\r\n",
        "          epochs = epochs,\r\n",
        "          verbose = 0,\r\n",
        "          validation_data = (x_test,\r\n",
        "                             y_test))"
      ],
      "execution_count": 58,
      "outputs": [
        {
          "output_type": "execute_result",
          "data": {
            "text/plain": [
              "<tensorflow.python.keras.callbacks.History at 0x7fd433287860>"
            ]
          },
          "metadata": {
            "tags": []
          },
          "execution_count": 58
        }
      ]
    },
    {
      "cell_type": "code",
      "metadata": {
        "colab": {
          "base_uri": "https://localhost:8080/"
        },
        "id": "DjxmYPRWiYIF",
        "outputId": "c288e2d0-6dae-4e54-c257-91c591b07f68"
      },
      "source": [
        "score = model.evaluate(x_test,\r\n",
        "                       y_test,\r\n",
        "                       verbose = 0)\r\n",
        "print('Test loss:', score[0])\r\n",
        "print('Test accuracy:', score[1])"
      ],
      "execution_count": 59,
      "outputs": [
        {
          "output_type": "stream",
          "text": [
            "Test loss: 2.0754005908966064\n",
            "Test accuracy: 0.6019999980926514\n"
          ],
          "name": "stdout"
        }
      ]
    },
    {
      "cell_type": "code",
      "metadata": {
        "colab": {
          "base_uri": "https://localhost:8080/"
        },
        "id": "F5s5WABAiaex",
        "outputId": "63f5d2e5-bca9-42aa-9b6a-eeb830861d24"
      },
      "source": [
        "print(classification_report(y_test.argmax(axis=1), \r\n",
        "                            model.predict(x_test).argmax(axis=1),\r\n",
        "                            digits = 4))"
      ],
      "execution_count": 60,
      "outputs": [
        {
          "output_type": "stream",
          "text": [
            "              precision    recall  f1-score   support\n",
            "\n",
            "           0     0.5733    0.9571    0.7171       980\n",
            "           1     0.8290    0.9568    0.8883      1135\n",
            "           2     0.5171    0.8072    0.6303      1032\n",
            "           3     0.7964    0.3990    0.5317      1010\n",
            "           4     0.9183    0.1945    0.3210       982\n",
            "           5     1.0000    0.0011    0.0022       892\n",
            "           6     0.4526    0.7370    0.5608       958\n",
            "           7     0.5623    0.8434    0.6747      1028\n",
            "           8     0.7032    0.3624    0.4783       974\n",
            "           9     0.5712    0.6363    0.6020      1009\n",
            "\n",
            "    accuracy                         0.6020     10000\n",
            "   macro avg     0.6923    0.5895    0.5406     10000\n",
            "weighted avg     0.6907    0.6020    0.5520     10000\n",
            "\n"
          ],
          "name": "stdout"
        }
      ]
    },
    {
      "cell_type": "markdown",
      "metadata": {
        "id": "WZ-ZjokmjCxG"
      },
      "source": [
        "The results are worst than those obtained using only 128 examples per batch size. this is caused by the fact that the weights are updated less time than in the previous net.\r\n",
        "To obtain better result, the same network with more epochs is trained. "
      ]
    },
    {
      "cell_type": "markdown",
      "metadata": {
        "id": "enSFksRLlEOd"
      },
      "source": [
        "# model with more epochs"
      ]
    },
    {
      "cell_type": "code",
      "metadata": {
        "id": "xi-l4ipvjk9Z"
      },
      "source": [
        "model = keras.Sequential()\r\n",
        "model.add(Input(shape = (x_train.shape[1], #-- 28\r\n",
        "                         x_train.shape[2], #-- 28\r\n",
        "                         1)))\r\n",
        "model.add(Conv2D(32, (3, 3)))\r\n",
        "model.add(ReLU())\r\n",
        "model.add(MaxPooling2D(pool_size=(2,2)))\r\n",
        "model.add(Flatten())\r\n",
        "model.add(Dense(128, activation='relu'))\r\n",
        "model.add(Dense(num_classes,\r\n",
        "                activation='softmax'))\r\n",
        "\r\n",
        "\r\n",
        "model.compile(loss = keras.losses.categorical_crossentropy,\r\n",
        "              optimizer = keras.optimizers.Adadelta(),\r\n",
        "              metrics=['accuracy'])\r\n"
      ],
      "execution_count": 61,
      "outputs": []
    },
    {
      "cell_type": "code",
      "metadata": {
        "colab": {
          "base_uri": "https://localhost:8080/"
        },
        "id": "gwYFLNXXjrWb",
        "outputId": "dbe62cd8-07c3-4f69-fc7e-3772cab1e05f"
      },
      "source": [
        "batch_size = 128\r\n",
        "epochs = 50\r\n",
        "\r\n",
        "\r\n",
        "model.fit(x_train, y_train,\r\n",
        "          batch_size = batch_size,\r\n",
        "          epochs = epochs,\r\n",
        "          verbose = 0,\r\n",
        "          validation_data = (x_test,\r\n",
        "                             y_test))"
      ],
      "execution_count": 62,
      "outputs": [
        {
          "output_type": "execute_result",
          "data": {
            "text/plain": [
              "<tensorflow.python.keras.callbacks.History at 0x7fd431024a20>"
            ]
          },
          "metadata": {
            "tags": []
          },
          "execution_count": 62
        }
      ]
    },
    {
      "cell_type": "code",
      "metadata": {
        "colab": {
          "base_uri": "https://localhost:8080/"
        },
        "id": "1GrJBUDfjuwc",
        "outputId": "7ffe46b9-cd94-4867-c350-3ecd76d539bf"
      },
      "source": [
        "score = model.evaluate(x_test,\r\n",
        "                       y_test,\r\n",
        "                       verbose = 0)\r\n",
        "print('Test loss:', score[0])\r\n",
        "print('Test accuracy:', score[1])"
      ],
      "execution_count": 63,
      "outputs": [
        {
          "output_type": "stream",
          "text": [
            "Test loss: 0.345415323972702\n",
            "Test accuracy: 0.9067999720573425\n"
          ],
          "name": "stdout"
        }
      ]
    },
    {
      "cell_type": "code",
      "metadata": {
        "colab": {
          "base_uri": "https://localhost:8080/"
        },
        "id": "6C4_8WbVjxFm",
        "outputId": "9f064088-034e-43e5-c625-b9eb4f64cbc5"
      },
      "source": [
        "print(classification_report(y_test.argmax(axis=1), \r\n",
        "                            model.predict(x_test).argmax(axis=1),\r\n",
        "                            digits = 4))"
      ],
      "execution_count": 64,
      "outputs": [
        {
          "output_type": "stream",
          "text": [
            "              precision    recall  f1-score   support\n",
            "\n",
            "           0     0.9342    0.9714    0.9525       980\n",
            "           1     0.9567    0.9744    0.9655      1135\n",
            "           2     0.9113    0.8566    0.8831      1032\n",
            "           3     0.8938    0.9000    0.8969      1010\n",
            "           4     0.9134    0.9236    0.9185       982\n",
            "           5     0.8918    0.8318    0.8608       892\n",
            "           6     0.9193    0.9395    0.9293       958\n",
            "           7     0.9149    0.8891    0.9018      1028\n",
            "           8     0.8527    0.8737    0.8631       974\n",
            "           9     0.8708    0.8949    0.8827      1009\n",
            "\n",
            "    accuracy                         0.9068     10000\n",
            "   macro avg     0.9059    0.9055    0.9054     10000\n",
            "weighted avg     0.9068    0.9068    0.9065     10000\n",
            "\n"
          ],
          "name": "stdout"
        }
      ]
    },
    {
      "cell_type": "markdown",
      "metadata": {
        "id": "GBHa2QIylkb8"
      },
      "source": [
        "Increasing number of epochs involves getting better result, form an accuracy of 0.8 (first model) to 0.9. "
      ]
    },
    {
      "cell_type": "markdown",
      "metadata": {
        "id": "XRmuF6ybsF-2"
      },
      "source": [
        "# Model training and evaluation on CIFAR10 data\r\n",
        "\r\n",
        "Model is now run on 10 epochs for dataset cifar."
      ]
    },
    {
      "cell_type": "code",
      "metadata": {
        "id": "cmnGe0sQsK_1"
      },
      "source": [
        "model = keras.Sequential()\r\n",
        "model.add(Input(shape = (x_train_cf.shape[1], #-- 32\r\n",
        "                         x_train_cf.shape[2], #-- 32\r\n",
        "                         3)))\r\n",
        "model.add(Conv2D(32, (3, 3)))\r\n",
        "model.add(ReLU())\r\n",
        "model.add(MaxPooling2D(pool_size=(2,2)))\r\n",
        "model.add(Flatten())\r\n",
        "model.add(Dense(128, activation='relu'))\r\n",
        "model.add(Dense(num_classes,\r\n",
        "                activation='softmax'))\r\n",
        "\r\n",
        "\r\n",
        "model.compile(loss = keras.losses.categorical_crossentropy,\r\n",
        "              optimizer = keras.optimizers.Adadelta(),\r\n",
        "              metrics=['accuracy'])"
      ],
      "execution_count": 96,
      "outputs": []
    },
    {
      "cell_type": "code",
      "metadata": {
        "id": "OQEd_u8lsRJt"
      },
      "source": [
        "batch_size = 128\r\n",
        "epochs = 10\r\n",
        "\r\n",
        "\r\n",
        "history_cifar = model.fit(x_train_cf, y_train_cf,\r\n",
        "          batch_size = batch_size,\r\n",
        "          epochs = epochs,\r\n",
        "          verbose = 0,\r\n",
        "          validation_data = (x_test_cf,\r\n",
        "                             y_test_cf))"
      ],
      "execution_count": 97,
      "outputs": []
    },
    {
      "cell_type": "code",
      "metadata": {
        "colab": {
          "base_uri": "https://localhost:8080/",
          "height": 404
        },
        "id": "db7dmbUFseXm",
        "outputId": "6a42702a-a23e-4114-b820-bfb56e5dde38"
      },
      "source": [
        "fig = plt.figure(figsize = (18,6))\r\n",
        "\r\n",
        "fig.add_subplot(1,2,1)\r\n",
        "plt.plot(history_cifar.history['accuracy'], marker = '.')\r\n",
        "plt.plot(history_cifar.history['val_accuracy'], marker = '.')\r\n",
        "plt.title('Model Accuracy')\r\n",
        "plt.ylabel('Accuracy')\r\n",
        "plt.xlabel('Epochs')\r\n",
        "plt.legend(['train', 'test'], loc = 'upper left')\r\n",
        "\r\n",
        "fig.add_subplot(1,2,2)\r\n",
        "plt.plot(history_cifar.history['loss'], marker = '.')\r\n",
        "plt.plot(history_cifar.history['val_loss'], marker = '.')\r\n",
        "plt.title('Model Loss')\r\n",
        "plt.ylabel('Loss')\r\n",
        "plt.xlabel('Epochs')\r\n",
        "plt.legend(['train', 'test'], loc = 'upper left')\r\n",
        "plt.show()"
      ],
      "execution_count": 98,
      "outputs": [
        {
          "output_type": "display_data",
          "data": {
            "image/png": "[encoded data removed]",
            "text/plain": [
              "<Figure size 1296x432 with 2 Axes>"
            ]
          },
          "metadata": {
            "tags": [],
            "needs_background": "light"
          }
        }
      ]
    },
    {
      "cell_type": "code",
      "metadata": {
        "colab": {
          "base_uri": "https://localhost:8080/"
        },
        "id": "DUAMlOVOsUsV",
        "outputId": "74d7e337-740a-4284-9165-4dc781ba2b42"
      },
      "source": [
        "score = model.evaluate(x_test_cf,\r\n",
        "                       y_test_cf,\r\n",
        "                       verbose = 0)\r\n",
        "print('Test loss:', score[0])\r\n",
        "print('Test accuracy:', score[1])"
      ],
      "execution_count": 99,
      "outputs": [
        {
          "output_type": "stream",
          "text": [
            "Test loss: 2.099208116531372\n",
            "Test accuracy: 0.29510000348091125\n"
          ],
          "name": "stdout"
        }
      ]
    },
    {
      "cell_type": "code",
      "metadata": {
        "colab": {
          "base_uri": "https://localhost:8080/"
        },
        "id": "rsg-xIdxsXKC",
        "outputId": "ecc600e9-609b-4720-93b7-b5e474da116c"
      },
      "source": [
        "print(classification_report(y_test_cf.argmax(axis=1), \r\n",
        "                            model.predict(x_test_cf).argmax(axis=1),\r\n",
        "                            digits = 4))"
      ],
      "execution_count": 100,
      "outputs": [
        {
          "output_type": "stream",
          "text": [
            "              precision    recall  f1-score   support\n",
            "\n",
            "           0     0.3537    0.5430    0.4284      1000\n",
            "           1     0.3941    0.1860    0.2527      1000\n",
            "           2     0.2216    0.1110    0.1479      1000\n",
            "           3     0.1875    0.0720    0.1040      1000\n",
            "           4     0.2823    0.1660    0.2091      1000\n",
            "           5     0.2413    0.4280    0.3086      1000\n",
            "           6     0.3535    0.3570    0.3552      1000\n",
            "           7     0.2845    0.2040    0.2376      1000\n",
            "           8     0.3065    0.4410    0.3616      1000\n",
            "           9     0.2804    0.4430    0.3434      1000\n",
            "\n",
            "    accuracy                         0.2951     10000\n",
            "   macro avg     0.2905    0.2951    0.2749     10000\n",
            "weighted avg     0.2905    0.2951    0.2749     10000\n",
            "\n"
          ],
          "name": "stdout"
        }
      ]
    },
    {
      "cell_type": "markdown",
      "metadata": {
        "id": "KLB5yypUud1E"
      },
      "source": [
        "The Nerural Network model implemented is really effective to predict Minst dataset classes, but on Cifar 10 data doesn't work really well.\r\n",
        "In fact with 10 epochs an accuracy of only 0.29 is reached on Cifar data instead the same model with same number of epochs reach an accuracy of 0.67 on Minst data."
      ]
    }
  ]
}
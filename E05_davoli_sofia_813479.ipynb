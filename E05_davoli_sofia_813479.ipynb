{
  "nbformat": 4,
  "nbformat_minor": 0,
  "metadata": {
    "colab": {
      "name": "Assignment-05.ipynb",
      "provenance": [],
      "collapsed_sections": [],
      "toc_visible": true
    },
    "kernelspec": {
      "name": "python3",
      "display_name": "Python 3"
    },
    "accelerator": "GPU"
  },
  "cells": [
    {
      "cell_type": "markdown",
      "metadata": {
        "id": "QtEygcyQ3T8d"
      },
      "source": [
        "# Digital Signal and Image Management\r\n",
        "###### Assignment 5\r\n",
        "\r\n",
        "> **Cognome**: Davoli    **Nome**: Sofia                                 \\\\\r\n",
        "> **Matricola**: 813479                                                     \\\\\r\n",
        "                                \\\\\r\n",
        "\r\n"
      ]
    },
    {
      "cell_type": "markdown",
      "metadata": {
        "id": "8U3RfwTj3fzx"
      },
      "source": [
        "## Libraries"
      ]
    },
    {
      "cell_type": "code",
      "metadata": {
        "id": "qCgDsusJ3QbE"
      },
      "source": [
        "from tensorflow import keras\r\n",
        "import tensorflow as tf\r\n",
        "import tensorflow.keras as keras\r\n",
        "from tensorflow.keras.models import Model\r\n",
        "from tensorflow.keras.layers import Dense\r\n",
        "from tensorflow.keras.callbacks import EarlyStopping\r\n",
        "from tensorflow.keras.preprocessing import image as kimage\r\n",
        "from tensorflow.keras.applications import vgg16\r\n",
        "\r\n",
        "import numpy as np\r\n",
        "import tarfile\r\n",
        "from time import time\r\n",
        "from shutil import copyfile\r\n",
        "import tarfile\r\n",
        "import matplotlib.pyplot as plt"
      ],
      "execution_count": 5,
      "outputs": []
    },
    {
      "cell_type": "markdown",
      "metadata": {
        "id": "lugY4uD839q5"
      },
      "source": [
        "## File Reading"
      ]
    },
    {
      "cell_type": "code",
      "metadata": {
        "id": "4rxtYqqO3_nW",
        "colab": {
          "base_uri": "https://localhost:8080/"
        },
        "outputId": "cee78534-0bc8-4a74-8378-d821de2a97d4"
      },
      "source": [
        "# Download del dataset tramite wget\r\n",
        "!wget https://www.dropbox.com/s/drwy7fq5svwv78p/101_ObjectCategories_split.tar"
      ],
      "execution_count": 6,
      "outputs": [
        {
          "output_type": "stream",
          "text": [
            "--2021-02-15 21:02:26--  https://www.dropbox.com/s/drwy7fq5svwv78p/101_ObjectCategories_split.tar\n",
            "Resolving www.dropbox.com (www.dropbox.com)... 162.125.80.18, 2620:100:6019:18::a27d:412\n",
            "Connecting to www.dropbox.com (www.dropbox.com)|162.125.80.18|:443... connected.\n",
            "HTTP request sent, awaiting response... 301 Moved Permanently\n",
            "Location: /s/raw/drwy7fq5svwv78p/101_ObjectCategories_split.tar [following]\n",
            "--2021-02-15 21:02:27--  https://www.dropbox.com/s/raw/drwy7fq5svwv78p/101_ObjectCategories_split.tar\n",
            "Reusing existing connection to www.dropbox.com:443.\n",
            "HTTP request sent, awaiting response... 302 Found\n",
            "Location: https://ucdf6acab1912b5297773aad98aa.dl.dropboxusercontent.com/cd/0/inline/BJCh1wOhazpFaKNJgeT1Qw6Hz6RlSz3w_cEFjli3mdSCKTQM3XEH6p5c3UPkcV9jTWTENogMgwlUx_JK4YNSgQS3RJoCknd6JGJVCwUp2nThlUYLRzLkdr7FZaTM2VnI3eQ/file# [following]\n",
            "--2021-02-15 21:02:28--  https://ucdf6acab1912b5297773aad98aa.dl.dropboxusercontent.com/cd/0/inline/BJCh1wOhazpFaKNJgeT1Qw6Hz6RlSz3w_cEFjli3mdSCKTQM3XEH6p5c3UPkcV9jTWTENogMgwlUx_JK4YNSgQS3RJoCknd6JGJVCwUp2nThlUYLRzLkdr7FZaTM2VnI3eQ/file\n",
            "Resolving ucdf6acab1912b5297773aad98aa.dl.dropboxusercontent.com (ucdf6acab1912b5297773aad98aa.dl.dropboxusercontent.com)... 162.125.4.15, 2620:100:601c:15::a27d:60f\n",
            "Connecting to ucdf6acab1912b5297773aad98aa.dl.dropboxusercontent.com (ucdf6acab1912b5297773aad98aa.dl.dropboxusercontent.com)|162.125.4.15|:443... connected.\n",
            "HTTP request sent, awaiting response... 302 Found\n",
            "Location: /cd/0/inline2/BJAD66TSymI-XMhhsrYV0QOHGQ9Ae4X32Uy9lygIA7wD1WWxYqtEXF2WC-X793XjQeEArTW49s4b3eM7eLnwDZEGl-zUs72ChhrcZe28d-Ux5-YE8zJNkjO9c5SkbZBwXpcAbc4dDr5Y65Qz9hENRueyCVhSlZoKvRC0vAWWH1TrFQs03P42S8DPQM5m-YyhuaI_SarvxK9D7EFmC66e93IK680y_MlLVL45-6uLPFW8RKc969i-X1uboPAGyQvgdkeNUI00Ta9L0bevQKzJaYc7d4PX4nxFF4dfKY41cPOCnE_DrjU_B390WZ3XSG9-DXDeegWaPkJvKCs-00DBLKY5kAeoY3zfrI5Y0YDv-bcXFQ/file [following]\n",
            "--2021-02-15 21:02:29--  https://ucdf6acab1912b5297773aad98aa.dl.dropboxusercontent.com/cd/0/inline2/BJAD66TSymI-XMhhsrYV0QOHGQ9Ae4X32Uy9lygIA7wD1WWxYqtEXF2WC-X793XjQeEArTW49s4b3eM7eLnwDZEGl-zUs72ChhrcZe28d-Ux5-YE8zJNkjO9c5SkbZBwXpcAbc4dDr5Y65Qz9hENRueyCVhSlZoKvRC0vAWWH1TrFQs03P42S8DPQM5m-YyhuaI_SarvxK9D7EFmC66e93IK680y_MlLVL45-6uLPFW8RKc969i-X1uboPAGyQvgdkeNUI00Ta9L0bevQKzJaYc7d4PX4nxFF4dfKY41cPOCnE_DrjU_B390WZ3XSG9-DXDeegWaPkJvKCs-00DBLKY5kAeoY3zfrI5Y0YDv-bcXFQ/file\n",
            "Reusing existing connection to ucdf6acab1912b5297773aad98aa.dl.dropboxusercontent.com:443.\n",
            "HTTP request sent, awaiting response... 200 OK\n",
            "Length: 145737728 (139M) [application/x-tar]\n",
            "Saving to: ‘101_ObjectCategories_split.tar.1’\n",
            "\n",
            "101_ObjectCategorie 100%[===================>] 138.99M  52.2MB/s    in 2.7s    \n",
            "\n",
            "2021-02-15 21:02:32 (52.2 MB/s) - ‘101_ObjectCategories_split.tar.1’ saved [145737728/145737728]\n",
            "\n"
          ],
          "name": "stdout"
        }
      ]
    },
    {
      "cell_type": "code",
      "metadata": {
        "id": "h1ZTbRtN4MTS"
      },
      "source": [
        "tar = tarfile.open('101_ObjectCategories_split.tar')\r\n",
        "tar.extractall()\r\n",
        "tar.close()"
      ],
      "execution_count": 7,
      "outputs": []
    },
    {
      "cell_type": "markdown",
      "metadata": {
        "id": "-_ECGKOxuZPU"
      },
      "source": [
        "## Data Augmentation\r\n",
        "Train and Test generator Preprocesing: \r\n",
        "- featurewise_center transforms the images to 0 mean\r\n",
        "- 180 Degree range for random rotations\r\n",
        "- width_shift_range and height_shift_range randomly crop the picture by slicing the image\r\n",
        "-. Points outside the boundaries of the input are filledas 0 (cval parameters, fill_mode=constant)\r\n",
        "- allowing random flip\r\n",
        "\r\n"
      ]
    },
    {
      "cell_type": "code",
      "metadata": {
        "colab": {
          "base_uri": "https://localhost:8080/"
        },
        "id": "ebjN5Ic65EcC",
        "outputId": "88ff834c-f4ff-4fb1-a800-ade72f744fd8"
      },
      "source": [
        "train_processing =  tf.keras.preprocessing.image.ImageDataGenerator(\r\n",
        "    featurewise_std_normalization=True,\r\n",
        "    rotation_range=180,\r\n",
        "    width_shift_range=[-1, 0, +1],\r\n",
        "    height_shift_range=[-1, 0, +1],\r\n",
        "    brightness_range=[0, 0.7],\r\n",
        "    fill_mode=\"constant\",\r\n",
        "    cval=0,\r\n",
        "    horizontal_flip=True,\r\n",
        "    vertical_flip=True , \r\n",
        "    data_format=\"channels_last\",\r\n",
        ")\r\n",
        "\r\n",
        "train_generator = train_processing.flow_from_directory('101_ObjectCategories_split/train', \r\n",
        "                                                       target_size = (224, 224), \r\n",
        "                                                       batch_size = 450,\r\n",
        "                                                       seed = 1, \r\n",
        "                                                       shuffle = True)"
      ],
      "execution_count": 41,
      "outputs": [
        {
          "output_type": "stream",
          "text": [
            "/usr/local/lib/python3.6/dist-packages/keras_preprocessing/image/image_data_generator.py:349: UserWarning: This ImageDataGenerator specifies `featurewise_std_normalization`, which overrides setting of `featurewise_center`.\n",
            "  warnings.warn('This ImageDataGenerator specifies '\n"
          ],
          "name": "stderr"
        },
        {
          "output_type": "stream",
          "text": [
            "Found 4600 images belonging to 102 classes.\n"
          ],
          "name": "stdout"
        }
      ]
    },
    {
      "cell_type": "code",
      "metadata": {
        "colab": {
          "base_uri": "https://localhost:8080/"
        },
        "id": "12a5Hn_I5H2A",
        "outputId": "7fdf5ced-278b-41b8-a36d-d01cc3c7828e"
      },
      "source": [
        "test_processing =  tf.keras.preprocessing.image.ImageDataGenerator(\r\n",
        "    featurewise_std_normalization=True,\r\n",
        "    rotation_range=180,\r\n",
        "    width_shift_range=[-1, 0, +1] ,\r\n",
        "    height_shift_range=[-1, 0, +1],\r\n",
        "    brightness_range=[0, 0.7],\r\n",
        "    fill_mode=\"constant\",\r\n",
        "    cval=0,\r\n",
        "    horizontal_flip=True,\r\n",
        "    vertical_flip=True , \r\n",
        "    data_format=\"channels_last\",\r\n",
        ")\r\n",
        "\r\n",
        "test_generator = train_processing.flow_from_directory('101_ObjectCategories_split/train', \r\n",
        "                                                       target_size = (224, 224), \r\n",
        "                                                       batch_size =450,\r\n",
        "                                                       seed = 1, \r\n",
        "                                                       shuffle = True)"
      ],
      "execution_count": 42,
      "outputs": [
        {
          "output_type": "stream",
          "text": [
            "/usr/local/lib/python3.6/dist-packages/keras_preprocessing/image/image_data_generator.py:349: UserWarning: This ImageDataGenerator specifies `featurewise_std_normalization`, which overrides setting of `featurewise_center`.\n",
            "  warnings.warn('This ImageDataGenerator specifies '\n"
          ],
          "name": "stderr"
        },
        {
          "output_type": "stream",
          "text": [
            "Found 4600 images belonging to 102 classes.\n"
          ],
          "name": "stdout"
        }
      ]
    },
    {
      "cell_type": "markdown",
      "metadata": {
        "id": "p8aqBHcE55He"
      },
      "source": [
        "## DenseNet121 model_ with augmented data\r\n",
        "\r\n",
        "Model chosen is Dense Net121.\r\n",
        "\r\n",
        "Pooling mode for feature extraction chosen is avg which means that global average pooling will be applied to the output of the last convolutional block, and thus the output of the model will be a 2D tensor. To this 2 other layer will be added.\r\n",
        "\r\n",
        "Wheight are those pre-trained on ImageNet.\r\n"
      ]
    },
    {
      "cell_type": "code",
      "metadata": {
        "colab": {
          "base_uri": "https://localhost:8080/"
        },
        "id": "gARZsU4s53jO",
        "outputId": "8bed1128-dd5a-4523-ca6f-6696e4523fc3"
      },
      "source": [
        "model = tf.keras.applications.DenseNet121(include_top = False,\r\n",
        "                    weights = 'imagenet', \r\n",
        "                    pooling = 'avg',\r\n",
        "                    input_shape = (224, 224, 3))"
      ],
      "execution_count": 63,
      "outputs": [
        {
          "output_type": "stream",
          "text": [
            "Downloading data from https://storage.googleapis.com/tensorflow/keras-applications/densenet/densenet121_weights_tf_dim_ordering_tf_kernels_notop.h5\n",
            "29089792/29084464 [==============================] - 0s 0us/step\n"
          ],
          "name": "stdout"
        }
      ]
    },
    {
      "cell_type": "code",
      "metadata": {
        "id": "pgn305ap6VEV"
      },
      "source": [
        "for layer in model.layers:\r\n",
        "  layer.trainable = False"
      ],
      "execution_count": 64,
      "outputs": []
    },
    {
      "cell_type": "markdown",
      "metadata": {
        "id": "bELJqmLsv4rf"
      },
      "source": [
        "The model is completed with 2 Dense layer with 3000-102 layers respectively. Function for first dense layer added is relu and the last one is softmax which converts a real vector to a vector of categorical probabilities (this is why it need 102 neurons).\r\n",
        "\r\n",
        "The resulting net is 428 layer long .\r\n",
        "\r\n",
        "Moreover an early stop check on loss function is made."
      ]
    },
    {
      "cell_type": "code",
      "metadata": {
        "id": "NBhhd5xA6rDH"
      },
      "source": [
        "x = model.output                                          \r\n",
        "x = keras.layers.Dense(3000, activation = 'relu')(x)      \r\n",
        "pred = keras.layers.Dense(102, activation = 'softmax')(x) "
      ],
      "execution_count": 65,
      "outputs": []
    },
    {
      "cell_type": "code",
      "metadata": {
        "id": "dH1UMBo16uMO"
      },
      "source": [
        "net = keras.Model(inputs  = model.input,\r\n",
        "                  outputs = pred)"
      ],
      "execution_count": 66,
      "outputs": []
    },
    {
      "cell_type": "code",
      "metadata": {
        "id": "kBuLTmEh6zvs"
      },
      "source": [
        "net.compile(loss = keras.losses.categorical_crossentropy,\r\n",
        "            optimizer = keras.optimizers.RMSprop(),\r\n",
        "            metrics = ['accuracy'])\r\n",
        "\r\n",
        "early = EarlyStopping(monitor = 'val_loss',\r\n",
        "                      patience = 6,\r\n",
        "                      verbose = 1)"
      ],
      "execution_count": 67,
      "outputs": []
    },
    {
      "cell_type": "code",
      "metadata": {
        "colab": {
          "base_uri": "https://localhost:8080/"
        },
        "id": "bFpr2Mki64GI",
        "outputId": "1a1ee0f2-d564-4f7a-db33-d2088c698fa2"
      },
      "source": [
        "len(model.layers)"
      ],
      "execution_count": 68,
      "outputs": [
        {
          "output_type": "execute_result",
          "data": {
            "text/plain": [
              "428"
            ]
          },
          "metadata": {
            "tags": []
          },
          "execution_count": 68
        }
      ]
    },
    {
      "cell_type": "code",
      "metadata": {
        "colab": {
          "base_uri": "https://localhost:8080/"
        },
        "id": "r08JudzL8myC",
        "outputId": "0582805f-cfbe-4aec-d095-2fd8a62cc348"
      },
      "source": [
        "history = net.fit(train_generator,\r\n",
        "                  epochs = 10,\r\n",
        "                  validation_data = test_generator,\r\n",
        "                  callbacks = early),"
      ],
      "execution_count": 69,
      "outputs": [
        {
          "output_type": "stream",
          "text": [
            "/usr/local/lib/python3.6/dist-packages/keras_preprocessing/image/image_data_generator.py:720: UserWarning: This ImageDataGenerator specifies `featurewise_center`, but it hasn't been fit on any training data. Fit it first by calling `.fit(numpy_data)`.\n",
            "  warnings.warn('This ImageDataGenerator specifies '\n",
            "/usr/local/lib/python3.6/dist-packages/keras_preprocessing/image/image_data_generator.py:728: UserWarning: This ImageDataGenerator specifies `featurewise_std_normalization`, but it hasn't been fit on any training data. Fit it first by calling `.fit(numpy_data)`.\n",
            "  warnings.warn('This ImageDataGenerator specifies '\n"
          ],
          "name": "stderr"
        },
        {
          "output_type": "stream",
          "text": [
            "Epoch 1/10\n",
            "11/11 [==============================] - 129s 12s/step - loss: 16.5084 - accuracy: 0.0442 - val_loss: 5.9757 - val_accuracy: 0.0793\n",
            "Epoch 2/10\n",
            "11/11 [==============================] - 116s 11s/step - loss: 5.3065 - accuracy: 0.1115 - val_loss: 4.3926 - val_accuracy: 0.2007\n",
            "Epoch 3/10\n",
            "11/11 [==============================] - 117s 11s/step - loss: 4.7699 - accuracy: 0.1893 - val_loss: 3.5120 - val_accuracy: 0.2591\n",
            "Epoch 4/10\n",
            "11/11 [==============================] - 117s 11s/step - loss: 3.5229 - accuracy: 0.2644 - val_loss: 3.3475 - val_accuracy: 0.2546\n",
            "Epoch 5/10\n",
            "11/11 [==============================] - 117s 11s/step - loss: 3.4363 - accuracy: 0.2790 - val_loss: 3.4019 - val_accuracy: 0.2909\n",
            "Epoch 6/10\n",
            "11/11 [==============================] - 116s 11s/step - loss: 3.1939 - accuracy: 0.3097 - val_loss: 3.4483 - val_accuracy: 0.3130\n",
            "Epoch 7/10\n",
            "11/11 [==============================] - 117s 11s/step - loss: 3.2820 - accuracy: 0.3278 - val_loss: 2.5746 - val_accuracy: 0.3902\n",
            "Epoch 8/10\n",
            "11/11 [==============================] - 116s 11s/step - loss: 2.7521 - accuracy: 0.3783 - val_loss: 2.7566 - val_accuracy: 0.3798\n",
            "Epoch 9/10\n",
            "11/11 [==============================] - 116s 11s/step - loss: 2.8086 - accuracy: 0.3776 - val_loss: 2.7420 - val_accuracy: 0.3872\n",
            "Epoch 10/10\n",
            "11/11 [==============================] - 116s 11s/step - loss: 2.6857 - accuracy: 0.3906 - val_loss: 2.2328 - val_accuracy: 0.4730\n"
          ],
          "name": "stdout"
        }
      ]
    },
    {
      "cell_type": "code",
      "metadata": {
        "id": "TeYsbtWPDu46"
      },
      "source": [
        "net.save('/drive/MyDrive/model_a5.h5')"
      ],
      "execution_count": 71,
      "outputs": []
    },
    {
      "cell_type": "code",
      "metadata": {
        "colab": {
          "base_uri": "https://localhost:8080/"
        },
        "id": "--hVCmxRDc0o",
        "outputId": "c58447dd-e154-407e-9a7c-f0f347260cd6"
      },
      "source": [
        "net.evaluate(test_generator)"
      ],
      "execution_count": 72,
      "outputs": [
        {
          "output_type": "stream",
          "text": [
            "/usr/local/lib/python3.6/dist-packages/keras_preprocessing/image/image_data_generator.py:720: UserWarning: This ImageDataGenerator specifies `featurewise_center`, but it hasn't been fit on any training data. Fit it first by calling `.fit(numpy_data)`.\n",
            "  warnings.warn('This ImageDataGenerator specifies '\n",
            "/usr/local/lib/python3.6/dist-packages/keras_preprocessing/image/image_data_generator.py:728: UserWarning: This ImageDataGenerator specifies `featurewise_std_normalization`, but it hasn't been fit on any training data. Fit it first by calling `.fit(numpy_data)`.\n",
            "  warnings.warn('This ImageDataGenerator specifies '\n"
          ],
          "name": "stderr"
        },
        {
          "output_type": "stream",
          "text": [
            "11/11 [==============================] - 58s 5s/step - loss: 2.2470 - accuracy: 0.4633\n"
          ],
          "name": "stdout"
        },
        {
          "output_type": "execute_result",
          "data": {
            "text/plain": [
              "[2.2470052242279053, 0.46326085925102234]"
            ]
          },
          "metadata": {
            "tags": []
          },
          "execution_count": 72
        }
      ]
    },
    {
      "cell_type": "markdown",
      "metadata": {
        "id": "hroswO4yviwd"
      },
      "source": [
        "This model reaches an accuracy of 0.39 on training set after 10 epochs. Even if this result is not satisfying, this is probably due to the lenght of the Net and to the reducted number of epochs of training. This net require a lot of computational effort and time.\r\n",
        "\r\n",
        "Surprisingly the net achieved better result on test set, reaching an accuracy of 0.46."
      ]
    },
    {
      "cell_type": "code",
      "metadata": {
        "id": "XZ-iVh03vTWe"
      },
      "source": [
        ""
      ],
      "execution_count": null,
      "outputs": []
    },
    {
      "cell_type": "markdown",
      "metadata": {
        "id": "0dar1jmvwvHa"
      },
      "source": [
        "## Model no augmentation"
      ]
    },
    {
      "cell_type": "code",
      "metadata": {
        "colab": {
          "base_uri": "https://localhost:8080/"
        },
        "id": "-qPHi9paxIVs",
        "outputId": "91224c7a-a568-44fc-bc86-cc43abb1db60"
      },
      "source": [
        "train_processing = kimage.ImageDataGenerator()\r\n",
        "\r\n",
        "train_generator = train_processing.flow_from_directory('101_ObjectCategories_split/train', \r\n",
        "                                                       target_size = (224, 224), \r\n",
        "                                                       batch_size = 100,\r\n",
        "                                                       seed = 1, \r\n",
        "                                                       shuffle = True)"
      ],
      "execution_count": 73,
      "outputs": [
        {
          "output_type": "stream",
          "text": [
            "Found 4600 images belonging to 102 classes.\n"
          ],
          "name": "stdout"
        }
      ]
    },
    {
      "cell_type": "code",
      "metadata": {
        "colab": {
          "base_uri": "https://localhost:8080/"
        },
        "id": "zRY200-xxMsy",
        "outputId": "753fe165-b864-4047-bb6d-9fb2885f4037"
      },
      "source": [
        "test_processing = kimage.ImageDataGenerator()\r\n",
        "\r\n",
        "test_generator = test_processing.flow_from_directory('101_ObjectCategories_split/test', \r\n",
        "                                                     target_size = (224, 224), \r\n",
        "                                                     batch_size = 100,\r\n",
        "                                                     seed = 1, \r\n",
        "                                                     shuffle = True)"
      ],
      "execution_count": 74,
      "outputs": [
        {
          "output_type": "stream",
          "text": [
            "Found 4544 images belonging to 102 classes.\n"
          ],
          "name": "stdout"
        }
      ]
    },
    {
      "cell_type": "code",
      "metadata": {
        "id": "94ZPU1pTyKcN"
      },
      "source": [
        "x = model.output                                          \r\n",
        "x = keras.layers.Dense(3000, activation = 'relu')(x)      \r\n",
        "pred = keras.layers.Dense(102, activation = 'softmax')(x) "
      ],
      "execution_count": 75,
      "outputs": []
    },
    {
      "cell_type": "code",
      "metadata": {
        "id": "C2lfLUuzyM32"
      },
      "source": [
        "net_noag = keras.Model(inputs  = model.input,\r\n",
        "                       outputs = pred)"
      ],
      "execution_count": 76,
      "outputs": []
    },
    {
      "cell_type": "code",
      "metadata": {
        "id": "yPYSB52GySaK"
      },
      "source": [
        "net_noag.compile(loss = keras.losses.categorical_crossentropy,\r\n",
        "                 optimizer = keras.optimizers.RMSprop(),\r\n",
        "                 metrics = ['accuracy'])"
      ],
      "execution_count": 77,
      "outputs": []
    },
    {
      "cell_type": "code",
      "metadata": {
        "colab": {
          "base_uri": "https://localhost:8080/"
        },
        "id": "thVOUONYx8qe",
        "outputId": "8271a2be-ed79-4147-ba38-721879b1fa06"
      },
      "source": [
        "history_noag = net.fit(train_generator,\r\n",
        "                       epochs = 10,\r\n",
        "                       validation_data = test_generator,\r\n",
        "                       callbacks = early);"
      ],
      "execution_count": 78,
      "outputs": [
        {
          "output_type": "stream",
          "text": [
            "Epoch 1/10\n",
            "46/46 [==============================] - 26s 558ms/step - loss: 4.5636 - accuracy: 0.2854 - val_loss: 3.2413 - val_accuracy: 0.3451\n",
            "Epoch 2/10\n",
            "46/46 [==============================] - 25s 544ms/step - loss: 2.7146 - accuracy: 0.3998 - val_loss: 2.9395 - val_accuracy: 0.3900\n",
            "Epoch 3/10\n",
            "46/46 [==============================] - 25s 555ms/step - loss: 2.3080 - accuracy: 0.4674 - val_loss: 3.0838 - val_accuracy: 0.4089\n",
            "Epoch 4/10\n",
            "46/46 [==============================] - 26s 571ms/step - loss: 2.0303 - accuracy: 0.5054 - val_loss: 2.6775 - val_accuracy: 0.4723\n",
            "Epoch 5/10\n",
            "46/46 [==============================] - 27s 581ms/step - loss: 1.7522 - accuracy: 0.5700 - val_loss: 2.7362 - val_accuracy: 0.4802\n",
            "Epoch 6/10\n",
            "46/46 [==============================] - 27s 593ms/step - loss: 1.5177 - accuracy: 0.6074 - val_loss: 2.7345 - val_accuracy: 0.4892\n",
            "Epoch 7/10\n",
            "46/46 [==============================] - 27s 588ms/step - loss: 1.3399 - accuracy: 0.6502 - val_loss: 2.8778 - val_accuracy: 0.4641\n",
            "Epoch 8/10\n",
            "46/46 [==============================] - 27s 582ms/step - loss: 1.1499 - accuracy: 0.6991 - val_loss: 3.4435 - val_accuracy: 0.4701\n",
            "Epoch 9/10\n",
            "46/46 [==============================] - 27s 587ms/step - loss: 1.0289 - accuracy: 0.7278 - val_loss: 3.1835 - val_accuracy: 0.4831\n",
            "Epoch 10/10\n",
            "46/46 [==============================] - 27s 590ms/step - loss: 0.9160 - accuracy: 0.7576 - val_loss: 2.9400 - val_accuracy: 0.5141\n",
            "Epoch 00010: early stopping\n"
          ],
          "name": "stdout"
        }
      ]
    },
    {
      "cell_type": "code",
      "metadata": {
        "colab": {
          "base_uri": "https://localhost:8080/",
          "height": 408
        },
        "id": "JF8ZiJwWynEx",
        "outputId": "7a8958ac-d8e1-4adf-9119-b03238ee6a3e"
      },
      "source": [
        "plt.figure(figsize = (15, 7))\r\n",
        "ax1 = plt.subplot(121)\r\n",
        "plt.xlabel('Epochs')\r\n",
        "plt.ylabel('Loss')\r\n",
        "ax1.plot(history_noag.history['loss'])\r\n",
        "ax1.plot(history_noag.history['val_loss'])\r\n",
        "ax1.legend(['Training', 'Validation'])\r\n",
        "\r\n",
        "ax2 = plt.subplot(122)\r\n",
        "plt.xlabel('Epochs')\r\n",
        "plt.ylabel('Accuracy')\r\n",
        "ax2.plot(history_noag.history['accuracy'])\r\n",
        "ax2.plot(history_noag.history['val_accuracy'])\r\n",
        "ax2.legend(['Training', 'Validation'], loc = 'lower right')\r\n",
        "plt.show()"
      ],
      "execution_count": 79,
      "outputs": [
        {
          "output_type": "display_data",
          "data": {
            "image/png": "[encoded data removed]",
            "text/plain": [
              "<Figure size 1080x504 with 2 Axes>"
            ]
          },
          "metadata": {
            "tags": [],
            "needs_background": "light"
          }
        }
      ]
    },
    {
      "cell_type": "code",
      "metadata": {
        "colab": {
          "base_uri": "https://localhost:8080/"
        },
        "id": "hGr_Z-yWZdGu",
        "outputId": "0730415d-423d-43f0-e5ad-9cd09260bc46"
      },
      "source": [
        "net_noag.evaluate(test_generator)"
      ],
      "execution_count": 81,
      "outputs": [
        {
          "output_type": "stream",
          "text": [
            "46/46 [==============================] - 14s 299ms/step - loss: 11.5671 - accuracy: 0.0075\n"
          ],
          "name": "stdout"
        },
        {
          "output_type": "execute_result",
          "data": {
            "text/plain": [
              "[11.567145347595215, 0.007482394576072693]"
            ]
          },
          "metadata": {
            "tags": []
          },
          "execution_count": 81
        }
      ]
    },
    {
      "cell_type": "markdown",
      "metadata": {
        "id": "FuL5r8276zSr"
      },
      "source": [
        "Without augmented data the model seems to have better performances on training set, but when testing result are terrible. Probably also in this case the training epochs number should be higher."
      ]
    },
    {
      "cell_type": "code",
      "metadata": {
        "id": "sxDP3DLL6y-O"
      },
      "source": [
        ""
      ],
      "execution_count": null,
      "outputs": []
    }
  ]
}